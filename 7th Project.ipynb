{
 "cells": [
  {
   "cell_type": "markdown",
   "metadata": {},
   "source": [
    "## Model Prediktif Megaline"
   ]
  },
  {
   "cell_type": "markdown",
   "metadata": {},
   "source": [
    "Dari data pelanggan yang telah beralih menggunakan salah satu dari dua paket Megaline yang lebih baru `Smart atau Ultra`, kami akan membagi data menjadi rangkaian pelatihan, validasi, dan pengujian untuk membuat sejumlah model prediktif dan memilih model terbaik yang akan membantu dalam menjual paket baru kepada pelanggan lama yang masih menggunakan paket lama.\n",
    "\n",
    "Ambang batas minimum untuk tingkat akurasi prediksi ditetapkan pada `0,75` meskipun kami akan membuat sejumlah model berbeda untuk mencoba dan mendapatkan akurasi setinggi mungkin supaya dapat lebih membantu Megaline dalam penjualan dan pemasaran mereka."
   ]
  },
  {
   "cell_type": "code",
   "execution_count": 1,
   "metadata": {},
   "outputs": [],
   "source": [
    "#importing libraries\n",
    "\n",
    "import pandas as pd\n",
    "from sklearn.tree import DecisionTreeClassifier \n",
    "from sklearn.metrics import accuracy_score\n",
    "from sklearn.model_selection import train_test_split\n",
    "from sklearn.ensemble import RandomForestClassifier\n",
    "from sklearn.linear_model import LogisticRegression\n",
    "from sklearn.metrics import mean_squared_error\n",
    "from sklearn.tree import DecisionTreeRegressor\n",
    "from sklearn.ensemble import RandomForestRegressor\n",
    "from sklearn.linear_model import LinearRegression"
   ]
  },
  {
   "cell_type": "code",
   "execution_count": 2,
   "metadata": {},
   "outputs": [],
   "source": [
    "#importing data\n",
    "\n",
    "user_behav = pd.read_csv('/datasets/users_behavior.csv')"
   ]
  },
  {
   "cell_type": "markdown",
   "metadata": {},
   "source": [
    "## Processing Data"
   ]
  },
  {
   "cell_type": "code",
   "execution_count": 3,
   "metadata": {},
   "outputs": [
    {
     "name": "stdout",
     "output_type": "stream",
     "text": [
      "<class 'pandas.core.frame.DataFrame'>\n",
      "RangeIndex: 3214 entries, 0 to 3213\n",
      "Data columns (total 5 columns):\n",
      " #   Column    Non-Null Count  Dtype  \n",
      "---  ------    --------------  -----  \n",
      " 0   calls     3214 non-null   float64\n",
      " 1   minutes   3214 non-null   float64\n",
      " 2   messages  3214 non-null   float64\n",
      " 3   mb_used   3214 non-null   float64\n",
      " 4   is_ultra  3214 non-null   int64  \n",
      "dtypes: float64(4), int64(1)\n",
      "memory usage: 125.7 KB\n"
     ]
    }
   ],
   "source": [
    "#process data\n",
    "\n",
    "user_behav.info()"
   ]
  },
  {
   "cell_type": "code",
   "execution_count": 4,
   "metadata": {},
   "outputs": [
    {
     "data": {
      "text/html": [
       "<div>\n",
       "<style scoped>\n",
       "    .dataframe tbody tr th:only-of-type {\n",
       "        vertical-align: middle;\n",
       "    }\n",
       "\n",
       "    .dataframe tbody tr th {\n",
       "        vertical-align: top;\n",
       "    }\n",
       "\n",
       "    .dataframe thead th {\n",
       "        text-align: right;\n",
       "    }\n",
       "</style>\n",
       "<table border=\"1\" class=\"dataframe\">\n",
       "  <thead>\n",
       "    <tr style=\"text-align: right;\">\n",
       "      <th></th>\n",
       "      <th>calls</th>\n",
       "      <th>minutes</th>\n",
       "      <th>messages</th>\n",
       "      <th>mb_used</th>\n",
       "      <th>is_ultra</th>\n",
       "    </tr>\n",
       "  </thead>\n",
       "  <tbody>\n",
       "    <tr>\n",
       "      <th>0</th>\n",
       "      <td>40.0</td>\n",
       "      <td>311.90</td>\n",
       "      <td>83.0</td>\n",
       "      <td>19915.42</td>\n",
       "      <td>0</td>\n",
       "    </tr>\n",
       "    <tr>\n",
       "      <th>1</th>\n",
       "      <td>85.0</td>\n",
       "      <td>516.75</td>\n",
       "      <td>56.0</td>\n",
       "      <td>22696.96</td>\n",
       "      <td>0</td>\n",
       "    </tr>\n",
       "    <tr>\n",
       "      <th>2</th>\n",
       "      <td>77.0</td>\n",
       "      <td>467.66</td>\n",
       "      <td>86.0</td>\n",
       "      <td>21060.45</td>\n",
       "      <td>0</td>\n",
       "    </tr>\n",
       "    <tr>\n",
       "      <th>3</th>\n",
       "      <td>106.0</td>\n",
       "      <td>745.53</td>\n",
       "      <td>81.0</td>\n",
       "      <td>8437.39</td>\n",
       "      <td>1</td>\n",
       "    </tr>\n",
       "    <tr>\n",
       "      <th>4</th>\n",
       "      <td>66.0</td>\n",
       "      <td>418.74</td>\n",
       "      <td>1.0</td>\n",
       "      <td>14502.75</td>\n",
       "      <td>0</td>\n",
       "    </tr>\n",
       "    <tr>\n",
       "      <th>5</th>\n",
       "      <td>58.0</td>\n",
       "      <td>344.56</td>\n",
       "      <td>21.0</td>\n",
       "      <td>15823.37</td>\n",
       "      <td>0</td>\n",
       "    </tr>\n",
       "    <tr>\n",
       "      <th>6</th>\n",
       "      <td>57.0</td>\n",
       "      <td>431.64</td>\n",
       "      <td>20.0</td>\n",
       "      <td>3738.90</td>\n",
       "      <td>1</td>\n",
       "    </tr>\n",
       "    <tr>\n",
       "      <th>7</th>\n",
       "      <td>15.0</td>\n",
       "      <td>132.40</td>\n",
       "      <td>6.0</td>\n",
       "      <td>21911.60</td>\n",
       "      <td>0</td>\n",
       "    </tr>\n",
       "    <tr>\n",
       "      <th>8</th>\n",
       "      <td>7.0</td>\n",
       "      <td>43.39</td>\n",
       "      <td>3.0</td>\n",
       "      <td>2538.67</td>\n",
       "      <td>1</td>\n",
       "    </tr>\n",
       "    <tr>\n",
       "      <th>9</th>\n",
       "      <td>90.0</td>\n",
       "      <td>665.41</td>\n",
       "      <td>38.0</td>\n",
       "      <td>17358.61</td>\n",
       "      <td>0</td>\n",
       "    </tr>\n",
       "  </tbody>\n",
       "</table>\n",
       "</div>"
      ],
      "text/plain": [
       "   calls  minutes  messages   mb_used  is_ultra\n",
       "0   40.0   311.90      83.0  19915.42         0\n",
       "1   85.0   516.75      56.0  22696.96         0\n",
       "2   77.0   467.66      86.0  21060.45         0\n",
       "3  106.0   745.53      81.0   8437.39         1\n",
       "4   66.0   418.74       1.0  14502.75         0\n",
       "5   58.0   344.56      21.0  15823.37         0\n",
       "6   57.0   431.64      20.0   3738.90         1\n",
       "7   15.0   132.40       6.0  21911.60         0\n",
       "8    7.0    43.39       3.0   2538.67         1\n",
       "9   90.0   665.41      38.0  17358.61         0"
      ]
     },
     "execution_count": 4,
     "metadata": {},
     "output_type": "execute_result"
    }
   ],
   "source": [
    "user_behav.head(10)"
   ]
  },
  {
   "cell_type": "code",
   "execution_count": 5,
   "metadata": {},
   "outputs": [
    {
     "data": {
      "text/plain": [
       "calls       0\n",
       "minutes     0\n",
       "messages    0\n",
       "mb_used     0\n",
       "is_ultra    0\n",
       "dtype: int64"
      ]
     },
     "execution_count": 5,
     "metadata": {},
     "output_type": "execute_result"
    }
   ],
   "source": [
    "user_behav.isna().sum()"
   ]
  },
  {
   "cell_type": "markdown",
   "metadata": {},
   "source": [
    "Terlihat dari data diatas tidak terdapat missing value"
   ]
  },
  {
   "cell_type": "markdown",
   "metadata": {},
   "source": [
    "## Memperbaiki Tipe Data"
   ]
  },
  {
   "cell_type": "code",
   "execution_count": 6,
   "metadata": {
    "scrolled": true
   },
   "outputs": [
    {
     "name": "stdout",
     "output_type": "stream",
     "text": [
      "<class 'pandas.core.frame.DataFrame'>\n",
      "RangeIndex: 3214 entries, 0 to 3213\n",
      "Data columns (total 5 columns):\n",
      " #   Column    Non-Null Count  Dtype  \n",
      "---  ------    --------------  -----  \n",
      " 0   calls     3214 non-null   int64  \n",
      " 1   minutes   3214 non-null   float64\n",
      " 2   messages  3214 non-null   int64  \n",
      " 3   mb_used   3214 non-null   float64\n",
      " 4   is_ultra  3214 non-null   int64  \n",
      "dtypes: float64(2), int64(3)\n",
      "memory usage: 125.7 KB\n"
     ]
    }
   ],
   "source": [
    "user_behav['calls'] = user_behav['calls'].astype('int64')\n",
    "user_behav['messages'] = user_behav['messages'].astype('int64')\n",
    "user_behav.info()"
   ]
  },
  {
   "cell_type": "markdown",
   "metadata": {},
   "source": [
    "Tipe data untuk kolom `calls` dan `messages` telah diperbaiki ke tipe `int64`, dan hal tersebut dapat mempemudahkan untuk membuat model prediktif Megaline."
   ]
  },
  {
   "cell_type": "markdown",
   "metadata": {},
   "source": [
    "## Mempersiapkan Model"
   ]
  },
  {
   "cell_type": "markdown",
   "metadata": {},
   "source": [
    "Metrik evaluasi tidak memerlukan kolom baru seperti kolom `is_ultra`, dengan Boolean 1 atau 0 menunjukkan hal tersebut. Ini akan digunakan sebagai target pemasangan model yang akan datang."
   ]
  },
  {
   "cell_type": "code",
   "execution_count": 7,
   "metadata": {},
   "outputs": [],
   "source": [
    "# Split training (60%), validation (20%), and testing (20%) sets\n",
    "\n",
    "user_behav_train, user_behav_valid = train_test_split(user_behav, test_size=0.2, random_state=759638)\n",
    "\n",
    "user_behav_train, user_behav_test = train_test_split(user_behav_train, test_size=0.25, random_state=759638)"
   ]
  },
  {
   "cell_type": "markdown",
   "metadata": {},
   "source": [
    "## Mendeklerasi Variabel"
   ]
  },
  {
   "cell_type": "markdown",
   "metadata": {},
   "source": [
    "Kami telah membagi data menjadi tiga set; `pelatihan, validasi, dan pengujian` dengan rasio 3:1:1. Pertama kita mengambil 20% data untuk membuat set validasi, kemudian dari 80% sisanya kita mengambil 25% untuk membuat set pengujian. Ini mengikuti rasio 3:1:1 atau 60%, 20%, dan 20% karena setelah pemisahan pertama, 80% dari data awal tetap ada, dan 0,8 * 0,25 = 0,2 mewakili 20% bagian kedua dari keseluruhan himpunan data"
   ]
  },
  {
   "cell_type": "code",
   "execution_count": 8,
   "metadata": {},
   "outputs": [],
   "source": [
    "#Mendeklerasikan variabel untuk features dan targets\n",
    "\n",
    "\n",
    "features_train = user_behav_train.drop(['is_ultra'], axis=1)\n",
    "target_train = user_behav_train['is_ultra']\n",
    "features_valid = user_behav_valid.drop(['is_ultra'], axis=1)\n",
    "target_valid = user_behav_valid['is_ultra']\n",
    "features_test = user_behav_test.drop(['is_ultra'], axis=1)\n",
    "target_test = user_behav_test['is_ultra']"
   ]
  },
  {
   "cell_type": "markdown",
   "metadata": {},
   "source": [
    "Kumpulan dari data pelatihan, validasi, dan pengujian telah dibagi menjadi beberapa fitur; yang mencakup jumlah `panggilan, menit, SMS, dan penggunaan data` serta hasilnya; apakah paketnya `Smart atau Ultra`."
   ]
  },
  {
   "cell_type": "markdown",
   "metadata": {},
   "source": [
    "##  Test Model\n"
   ]
  },
  {
   "cell_type": "markdown",
   "metadata": {},
   "source": [
    "### Model A - Decision Tree"
   ]
  },
  {
   "cell_type": "code",
   "execution_count": 9,
   "metadata": {
    "scrolled": true
   },
   "outputs": [
    {
     "name": "stdout",
     "output_type": "stream",
     "text": [
      "Depth of best model: 3\n",
      "Accuracy of the decision tree model on the validation set: 0.7978227060653188\n",
      "Accuracy of the decision tree model on the test set: 0.8133748055987559\n"
     ]
    }
   ],
   "source": [
    "best_model = None\n",
    "best_result = 0\n",
    "for depth in range(1, 6):\n",
    "    model = DecisionTreeClassifier(random_state=759638, max_depth=depth) #membuat kedalaman model tertentu\n",
    "    model.fit(features_train, target_train) # train the model\n",
    "    result = model.score(features_valid, target_valid) # menghitung tingkat akurasi\n",
    "    if result > best_result:\n",
    "        best_model = model\n",
    "        best_result = result\n",
    "        best_depth = depth\n",
    "        \n",
    "predictions_test = model.predict(features_test)\n",
    "test_result = accuracy_score(target_test, predictions_test)\n",
    "        \n",
    "print(\"Depth of best model:\", best_depth)\n",
    "print(\"Accuracy of the decision tree model on the validation set:\", best_result)\n",
    "print(\"Accuracy of the decision tree model on the test set:\", test_result)"
   ]
  },
  {
   "cell_type": "markdown",
   "metadata": {},
   "source": [
    "### Model B - Random Forest"
   ]
  },
  {
   "cell_type": "code",
   "execution_count": 10,
   "metadata": {
    "scrolled": true
   },
   "outputs": [
    {
     "name": "stdout",
     "output_type": "stream",
     "text": [
      "n_estimator value of best model: 4\n",
      "Accuracy of the random forest on the model validation set: 0.7776049766718507\n",
      "Accuracy of the random forest model on the test set: 0.8009331259720062\n"
     ]
    }
   ],
   "source": [
    "best_score = 0\n",
    "best_est = 0\n",
    "for est in range(1, 11): #memilih rentan hyperparameter \n",
    "    model = RandomForestClassifier(random_state=759638, n_estimators=est) # mengatur nomor pohon\n",
    "    model.fit(features_train, target_train) # train model on training set\n",
    "    score = model.score(features_valid, target_valid) #menghitung nilai akurasi dari validation set\n",
    "    if score > best_score:\n",
    "        best_score = score\n",
    "        best_est = est\n",
    "\n",
    "print(\"n_estimator value of best model:\", best_est)\n",
    "print(\"Accuracy of the random forest on the model validation set:\", best_score)\n",
    "        \n",
    "final_model = RandomForestClassifier(random_state=759638, n_estimators=est) # merubah n_estimators ke best model\n",
    "final_model.fit(features_train, target_train)\n",
    "test_score = model.score(features_test, target_test)\n",
    "\n",
    "print(\"Accuracy of the random forest model on the test set:\", test_score)"
   ]
  },
  {
   "cell_type": "markdown",
   "metadata": {},
   "source": [
    "### Model C - Logistic Regression"
   ]
  },
  {
   "cell_type": "code",
   "execution_count": 11,
   "metadata": {
    "scrolled": true
   },
   "outputs": [
    {
     "name": "stdout",
     "output_type": "stream",
     "text": [
      "Accuracy of the logistic regression model on the validation set: 0.7122861586314152\n",
      "Accuracy of the logistic regression model on the test set: 0.7169517884914464\n"
     ]
    }
   ],
   "source": [
    "model = LogisticRegression(random_state=759638, solver='liblinear')  # inisialisasi logistic regression constructor with parameters random_state=54321 and solver='liblinear'\n",
    "model.fit(features_train, target_train)  # train model on training set\n",
    "score_valid = model.score(features_valid, target_valid) # menghitung nilai akurasi dari validation set\n",
    "score_test = model.score(features_test, target_test) # menghitung nilai akurasi dari validation set\n",
    "\n",
    "print(\"Accuracy of the logistic regression model on the validation set:\", score_valid)\n",
    "print(\"Accuracy of the logistic regression model on the test set:\", score_test)"
   ]
  },
  {
   "cell_type": "markdown",
   "metadata": {},
   "source": [
    "### Model D - Decision Tree Regression "
   ]
  },
  {
   "cell_type": "code",
   "execution_count": 12,
   "metadata": {},
   "outputs": [
    {
     "name": "stdout",
     "output_type": "stream",
     "text": [
      "Best model depth: 5\n",
      "Accuracy of the decision tree regression model on the validation set: 0.7465007776049767\n",
      "Accuracy of the decision tree regression model on the test set: 0.7729393468118196\n"
     ]
    }
   ],
   "source": [
    "best_model = None\n",
    "best_score = 10000\n",
    "best_depth = 0\n",
    "for depth in range(1, 6): # memilih rentan hyperparameter\n",
    "    model = DecisionTreeRegressor(max_depth=depth, random_state=759638) # train model on training set\n",
    "    model.fit(features_train, target_train) # train model on training set\n",
    "    predictions_valid = model.predict(features_valid) # mendapatkan model predictions dari validation set\n",
    "    result = mean_squared_error(target_valid, predictions_valid)**0.5 # menghitung RMSE dari validation set\n",
    "    if result < best_result:\n",
    "        best_model = model\n",
    "        best_result = result\n",
    "        best_depth = depth\n",
    "\n",
    "model = RandomForestClassifier(random_state=759638, n_estimators=best_depth) \n",
    "model.fit(features_train, target_train)\n",
    "score_valid = model.score(features_valid, target_valid)\n",
    "score_test = model.score(features_test, target_test)\n",
    "        \n",
    "print(\"Best model depth:\", best_depth)\n",
    "print(\"Accuracy of the decision tree regression model on the validation set:\", score_valid)\n",
    "print(\"Accuracy of the decision tree regression model on the test set:\", score_test)"
   ]
  },
  {
   "cell_type": "markdown",
   "metadata": {},
   "source": [
    "### Model E - Random Forest Regression"
   ]
  },
  {
   "cell_type": "code",
   "execution_count": 13,
   "metadata": {},
   "outputs": [
    {
     "name": "stdout",
     "output_type": "stream",
     "text": [
      "Best model depth: 7\n",
      "n_estimator value of best model: 50\n",
      "Accuracy of the random forest regression model on the validation set: 0.27790191886395654\n",
      "Accuracy of the random forest regression model on the test set: 0.3308555611521775\n"
     ]
    }
   ],
   "source": [
    "best_model = None\n",
    "best_result = 10000\n",
    "best_est = 0\n",
    "best_depth = 0\n",
    "for est in range(10, 51, 10):\n",
    "    for depth in range (1, 11):\n",
    "        model = RandomForestRegressor(random_state=759638, n_estimators=est, max_depth=depth)\n",
    "        model.fit(features_train, target_train) # train model on training set\n",
    "        predictions_valid = model.predict(features_valid) # mendapatkan model predictions dari validation set\n",
    "        result = mean_squared_error(target_valid, predictions_valid)**0.5 \n",
    "        if result < best_result:\n",
    "            best_model = model\n",
    "            best_result = result\n",
    "            best_est = est\n",
    "            best_depth = depth\n",
    "\n",
    "model = RandomForestRegressor(random_state=759638, n_estimators=est, max_depth=depth)\n",
    "model.fit(features_train, target_train)\n",
    "score_valid = model.score(features_valid, target_valid)\n",
    "score_test = model.score(features_test, target_test)\n",
    "\n",
    "print(\"Best model depth:\", best_depth)\n",
    "print(\"n_estimator value of best model:\", best_est)\n",
    "print(\"Accuracy of the random forest regression model on the validation set:\", score_valid)\n",
    "print(\"Accuracy of the random forest regression model on the test set:\", score_test)"
   ]
  },
  {
   "cell_type": "markdown",
   "metadata": {},
   "source": [
    "### Model F - Linear Regression"
   ]
  },
  {
   "cell_type": "code",
   "execution_count": 14,
   "metadata": {},
   "outputs": [
    {
     "name": "stdout",
     "output_type": "stream",
     "text": [
      "Accuracy of the linear regression model on the validation set: 0.07155124406025604\n",
      "Accuracy of the linear regression model on the test set: 0.06460707768249263\n"
     ]
    }
   ],
   "source": [
    "model = LinearRegression()\n",
    "model.fit(features_train, target_train) # train model on training set\n",
    "predictions_valid = model.predict(features_valid) # mendapatkan prediksi model dari validation set\n",
    "score_valid = model.score(features_valid, target_valid)\n",
    "score_test = model.score(features_test, target_test)\n",
    "\n",
    "print(\"Accuracy of the linear regression model on the validation set:\", score_valid)\n",
    "print(\"Accuracy of the linear regression model on the test set:\", score_test)"
   ]
  },
  {
   "cell_type": "markdown",
   "metadata": {},
   "source": [
    "# Kesimpulan"
   ]
  },
  {
   "cell_type": "markdown",
   "metadata": {},
   "source": [
    "Setelah menguji keakuratan dari enam model yang berbeda, ditentukan model dengan akurasi tertinggi pada `Model A - Decision Tree`. Dengan kedalaman 3 pohon, kami bisa mendapatkan akurasi sebesar `0,7978227060653188` dengan kumpulan data validasi, dan akurasi yang lebih tinggi yaitu `0,8133748055987559` dengan kumpulan data pengujian.\n",
    "\n",
    "Karena model ini dikembangkan menggunakan penggunaan paket dari pelanggan yang telah beralih ke paket baru Megaline, model ini seharusnya dapat memberikan prediksi yang cukup akurat mengenai paket `Smart atau Ultra`, yang harus direkomendasikan kepada pelanggan lama yang masih menggunakan paket lama. Memprediksi secara akurat paket mana yang lebih menarik bagi pelanggan tertentu akan membantu meyakinkan mereka untuk beralih ke alternatif yang lebih modern dibandingkan pilihan mereka saat ini."
   ]
  }
 ],
 "metadata": {
  "kernelspec": {
   "display_name": "Python 3 (ipykernel)",
   "language": "python",
   "name": "python3"
  },
  "language_info": {
   "codemirror_mode": {
    "name": "ipython",
    "version": 3
   },
   "file_extension": ".py",
   "mimetype": "text/x-python",
   "name": "python",
   "nbconvert_exporter": "python",
   "pygments_lexer": "ipython3",
   "version": "3.9.19"
  },
  "toc": {
   "base_numbering": 1,
   "nav_menu": {},
   "number_sections": true,
   "sideBar": true,
   "skip_h1_title": true,
   "title_cell": "Table of Contents",
   "title_sidebar": "Contents",
   "toc_cell": false,
   "toc_position": {},
   "toc_section_display": true,
   "toc_window_display": true
  }
 },
 "nbformat": 4,
 "nbformat_minor": 2
}
